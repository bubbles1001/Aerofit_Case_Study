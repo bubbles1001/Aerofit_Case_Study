version https://git-lfs.github.com/spec/v1
oid sha256:ad9540f4f51c8dca4b4acd7f157f49c103c15de92e8e81d001cd743d81cda725
size 2340166
